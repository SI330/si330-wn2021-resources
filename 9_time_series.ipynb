{
 "cells": [
  {
   "cell_type": "markdown",
   "metadata": {
    "slideshow": {
     "slide_type": "slide"
    }
   },
   "source": [
    "# Time Series Data\n",
    "\n",
    "* Time series data adds new manipulation options to our data, and pandas was actually developed with time series data in mind.\n",
    "* Pandas can handle date/time formats\n",
    "* See https://jakevdp.github.io/PythonDataScienceHandbook/03.11-working-with-time-series.html"
   ]
  },
  {
   "cell_type": "code",
   "execution_count": null,
   "metadata": {},
   "outputs": [],
   "source": [
    "import numpy as np\n",
    "import pandas as pd\n",
    "from datetime import datetime\n",
    "\n"
   ]
  },
  {
   "cell_type": "code",
   "execution_count": null,
   "metadata": {},
   "outputs": [],
   "source": []
  },
  {
   "cell_type": "markdown",
   "metadata": {
    "slideshow": {
     "slide_type": "slide"
    }
   },
   "source": [
    "## Resampling \n",
    "* the process of converting a time series from one frequency to another.\n",
    "  * downsampling: going from a high frequency (e.g. daily) to a lower frequency (e.g. weekly)\n",
    "  * upsampling: going from a lower frequency to higher frequency\n",
    "  * remapping: aligning data to a set frequency (e.g. mapping weekly data to sundays)\n",
    "  \n",
    "Offset aliases: https://pandas.pydata.org/docs/user_guide/timeseries.html"
   ]
  },
  {
   "cell_type": "code",
   "execution_count": null,
   "metadata": {
    "slideshow": {
     "slide_type": "slide"
    }
   },
   "outputs": [],
   "source": [
    "import pandas as pd\n",
    "import numpy as np\n",
    "import matplotlib.pyplot as plt\n",
    "\n",
    "# We can create date ranges with\n",
    "#pd.date_range?"
   ]
  },
  {
   "cell_type": "code",
   "execution_count": null,
   "metadata": {
    "slideshow": {
     "slide_type": "subslide"
    }
   },
   "outputs": [],
   "source": [
    "# Some sample data\n"
   ]
  },
  {
   "cell_type": "code",
   "execution_count": null,
   "metadata": {
    "slideshow": {
     "slide_type": "slide"
    }
   },
   "outputs": [],
   "source": [
    "# You need a date or time index on your dataframe to do some resampling\n",
    "# When we resample we need to determine the new frequency we want and how we want to resample\n",
    "# Let's change our daily data down to weekly data\n"
   ]
  },
  {
   "cell_type": "code",
   "execution_count": null,
   "metadata": {
    "slideshow": {
     "slide_type": "subslide"
    }
   },
   "outputs": [],
   "source": [
    "# Just like groupby, this is an object which will do the resampling for us\n",
    "# Since we are downsampling (D->W) we need to decide how to aggregate our datapoints\n",
    "# We are now very used to this!\n"
   ]
  },
  {
   "cell_type": "markdown",
   "metadata": {
    "slideshow": {
     "slide_type": "slide"
    }
   },
   "source": [
    "* Notice the frequency is now W-SUN (weekly beginning on sunday)\n",
    "* When we downsample we are \"binning\" our values and need to determine which end of the bin is open/closed\n",
    "* By default the right side is **closed** for weekly binning, which we did here\n",
    "  * Closed vs. open can be confusing! For example, is an observation at midnight on October 13, 2020 a Tuesday observation, or a Monday observation?\n",
    "  * If you have defined thing as left closed, then it's Monday. If you defined them as right closed, then it's Tuesday."
   ]
  },
  {
   "cell_type": "markdown",
   "metadata": {
    "slideshow": {
     "slide_type": "slide"
    }
   },
   "source": [
    "# Here's an example\n",
    "* if you have a bunch of time sampled data in seconds and you are downsampling to minutes then:\n",
    "  * if you are **left closed** you are saying \"downsample to minutes where all of the values are **<** the next minute whole number\"\n",
    "  * if you are **right closed** you are saying \"downsample to minutes where all of the values are **<=** the next minute whole number\"\n"
   ]
  },
  {
   "cell_type": "code",
   "execution_count": null,
   "metadata": {
    "slideshow": {
     "slide_type": "slide"
    }
   },
   "outputs": [],
   "source": [
    "# Let's look at 9 seconds which cross the minute boundry\n"
   ]
  },
  {
   "cell_type": "code",
   "execution_count": null,
   "metadata": {
    "slideshow": {
     "slide_type": "slide"
    }
   },
   "outputs": [],
   "source": [
    "# if we resample this to 1 minute intervals closed on the left \n",
    "# then the first five seconds will be binned to the left value (<)\n"
   ]
  },
  {
   "cell_type": "code",
   "execution_count": null,
   "metadata": {
    "slideshow": {
     "slide_type": "slide"
    }
   },
   "outputs": [],
   "source": [
    "# if we resample this to 1 minute intervals closed on the right \n",
    "# then the first six seconds will be binned to the left value (<=)\n"
   ]
  },
  {
   "cell_type": "markdown",
   "metadata": {
    "slideshow": {
     "slide_type": "slide"
    }
   },
   "source": [
    "<a href=\"https://stackoverflow.com/questions/48340463/how-to-understand-closed-and-label-arguments-in-pandas-resample-method\">https://stackoverflow.com/questions/48340463/how-to-understand-closed-and-label-arguments-in-pandas-resample-method</a>\n",
    "<img src=\"https://i.stack.imgur.com/nX6yv.png\"></img>"
   ]
  },
  {
   "cell_type": "code",
   "execution_count": null,
   "metadata": {
    "slideshow": {
     "slide_type": "slide"
    }
   },
   "outputs": [],
   "source": [
    "# Also, downsampling really is an aggregation exercise, so you can do all sorts of things\n",
    "# With upsampling there is no need to aggregate. \n",
    "\n",
    "# Let's create a dataframe, with two weekly indices, and four columns. First the indicies:\n"
   ]
  },
  {
   "cell_type": "code",
   "execution_count": null,
   "metadata": {
    "slideshow": {
     "slide_type": "subslide"
    }
   },
   "outputs": [],
   "source": [
    "# Now we upsample from weekly frequency to daily frequency,\n"
   ]
  },
  {
   "cell_type": "code",
   "execution_count": null,
   "metadata": {
    "slideshow": {
     "slide_type": "slide"
    }
   },
   "outputs": [],
   "source": [
    "# As you notice, there will be NaN values, let's engage in interpolation\n",
    "# Forward fill or backward fill\n"
   ]
  },
  {
   "cell_type": "code",
   "execution_count": null,
   "metadata": {
    "slideshow": {
     "slide_type": "slide"
    }
   },
   "outputs": [],
   "source": [
    "# We can also choose to only fill a certain number of periods, by using the limit \n",
    "# parameter in the ffill() function. For instance, here, we are limiting to \n",
    "# interpolating three observations\n"
   ]
  },
  {
   "cell_type": "markdown",
   "metadata": {
    "slideshow": {
     "slide_type": "slide"
    }
   },
   "source": [
    "# Working with time series data\n",
    "* We've now seen downsampling and upsampling, and have a better sense of how date ranges are handled in pandas\n",
    "* Let's go back to a favorite dataset of ours which has lots of interesting time series data in it and try and explore a bit"
   ]
  },
  {
   "cell_type": "code",
   "execution_count": null,
   "metadata": {
    "slideshow": {
     "slide_type": "slide"
    }
   },
   "outputs": [],
   "source": [
    "df=pd.read_excel(\"datasets/AnnArbor-TicketViolation2016.xls\",skiprows=1)\n",
    "print(df.columns)\n",
    "print(df.dtypes)"
   ]
  },
  {
   "cell_type": "code",
   "execution_count": null,
   "metadata": {},
   "outputs": [],
   "source": []
  },
  {
   "cell_type": "code",
   "execution_count": null,
   "metadata": {},
   "outputs": [],
   "source": [
    "df.head()"
   ]
  },
  {
   "cell_type": "code",
   "execution_count": null,
   "metadata": {
    "slideshow": {
     "slide_type": "slide"
    }
   },
   "outputs": [],
   "source": [
    "# First up, let's create a date/time index. We have an issue date column and \n",
    "# an issuetime column\n",
    "def clean_time(x):\n",
    "    pass\n",
    "\n",
    "df=df.set_index(df[[\"Issue Date \",\"IssueTime\"]].apply(clean_time, axis=1))\n",
    "df.head()"
   ]
  },
  {
   "cell_type": "code",
   "execution_count": null,
   "metadata": {
    "slideshow": {
     "slide_type": "slide"
    }
   },
   "outputs": [],
   "source": [
    "%matplotlib inline\n",
    "# Now let's plot the fines over the year!\n",
    "import matplotlib.pyplot as plt\n"
   ]
  },
  {
   "cell_type": "code",
   "execution_count": null,
   "metadata": {
    "slideshow": {
     "slide_type": "slide"
    }
   },
   "outputs": [],
   "source": [
    "# That's meaningless... How would we find signal in that noise?\n",
    "# Let's zoom in on a single month, pandas does the \"right thing\" with date/time slicing!\n"
   ]
  },
  {
   "cell_type": "code",
   "execution_count": null,
   "metadata": {
    "slideshow": {
     "slide_type": "slide"
    }
   },
   "outputs": [],
   "source": [
    "# This, is, btw, much cooler than it seems at first; check this out\n"
   ]
  },
  {
   "cell_type": "code",
   "execution_count": null,
   "metadata": {
    "slideshow": {
     "slide_type": "slide"
    }
   },
   "outputs": [],
   "source": [
    "# so this means we can use date/times as masks!\n"
   ]
  },
  {
   "cell_type": "code",
   "execution_count": null,
   "metadata": {
    "slideshow": {
     "slide_type": "slide"
    }
   },
   "outputs": [],
   "source": [
    "# Now let's resample this and look at daily totals\n"
   ]
  },
  {
   "cell_type": "code",
   "execution_count": null,
   "metadata": {
    "slideshow": {
     "slide_type": "slide"
    }
   },
   "outputs": [],
   "source": [
    "# January 10th 2016 was a sunday! Looks pretty clear that sundays very few tickets are given out!\n",
    "#We could also look at tickets per hour in a single week\n"
   ]
  },
  {
   "cell_type": "code",
   "execution_count": null,
   "metadata": {
    "slideshow": {
     "slide_type": "slide"
    }
   },
   "outputs": [],
   "source": [
    "# That 13th-14th has some big values, let's zoom in a bit\n"
   ]
  },
  {
   "cell_type": "code",
   "execution_count": null,
   "metadata": {
    "slideshow": {
     "slide_type": "slide"
    }
   },
   "outputs": [],
   "source": [
    "# We can also explore multiple series of data plotted on the same chart by executing plot() on a\n",
    "# dataframe multiple times in a single cell\n",
    "df.loc[\"2016-01-13\":\"2016-01-14\", \" Fine \"].resample(\"15T\").apply(len).plot()\n"
   ]
  }
 ],
 "metadata": {
  "celltoolbar": "Slideshow",
  "kernelspec": {
   "display_name": "Python 3",
   "language": "python",
   "name": "python3"
  },
  "language_info": {
   "codemirror_mode": {
    "name": "ipython",
    "version": 3
   },
   "file_extension": ".py",
   "mimetype": "text/x-python",
   "name": "python",
   "nbconvert_exporter": "python",
   "pygments_lexer": "ipython3",
   "version": "3.7.3"
  }
 },
 "nbformat": 4,
 "nbformat_minor": 4
}
