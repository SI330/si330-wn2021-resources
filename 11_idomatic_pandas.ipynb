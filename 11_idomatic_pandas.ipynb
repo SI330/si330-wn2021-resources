{
 "cells": [
  {
   "cell_type": "markdown",
   "metadata": {
    "slideshow": {
     "slide_type": "slide"
    }
   },
   "source": [
    "# Idomatic pandas\n",
    "* \"a group of words established by usage as having a meaning not deducible from those of the individual words (e.g., rain cats and dogs, see the light ).\" -- some dictionary\n",
    "* What does it mean to be idomatic with respect to a programming language?"
   ]
  },
  {
   "cell_type": "code",
   "execution_count": null,
   "metadata": {
    "slideshow": {
     "slide_type": "slide"
    }
   },
   "outputs": [],
   "source": [
    "import pandas as pd\n",
    "import numpy as np\n",
    "\n",
    "df = pd.read_csv('datasets/census.csv')\n",
    "df.head()"
   ]
  },
  {
   "cell_type": "markdown",
   "metadata": {
    "slideshow": {
     "slide_type": "slide"
    }
   },
   "source": [
    "## Pandas Idiom 1: Method Chaining"
   ]
  },
  {
   "cell_type": "code",
   "execution_count": null,
   "metadata": {
    "slideshow": {
     "slide_type": "subslide"
    }
   },
   "outputs": [],
   "source": [
    "(df.where(df['SUMLEV']==50)\n",
    "    .dropna()\n",
    "    .set_index(['STNAME','CTYNAME'])\n",
    "    .rename(columns={'ESTIMATESBASE2010': 'Estimates Base 2010'}))"
   ]
  },
  {
   "cell_type": "markdown",
   "metadata": {
    "slideshow": {
     "slide_type": "slide"
    }
   },
   "source": [
    "## Pandas Idiom 2: Functional Programming\n",
    "* We've talked about this at length! Broadcasting! Vectorization!"
   ]
  },
  {
   "cell_type": "code",
   "execution_count": null,
   "metadata": {
    "slideshow": {
     "slide_type": "subslide"
    }
   },
   "outputs": [],
   "source": [
    "rows = ['POPESTIMATE2010', 'POPESTIMATE2011', 'POPESTIMATE2012', 'POPESTIMATE2013','POPESTIMATE2014', \n",
    "        'POPESTIMATE2015']\n",
    "\n",
    "df['abs'] = df.apply(lambda x: np.max(x[rows]) - np.min(x[rows]), axis=1)"
   ]
  },
  {
   "cell_type": "markdown",
   "metadata": {},
   "source": [
    "## Documentation, IDEs, and Testing\n",
    "\n",
    "- General functions vs. specific ones: https://pandas.pydata.org/pandas-docs/stable/reference/index.html\n",
    "- Deepnote Example"
   ]
  },
  {
   "cell_type": "code",
   "execution_count": null,
   "metadata": {},
   "outputs": [],
   "source": []
  },
  {
   "cell_type": "code",
   "execution_count": null,
   "metadata": {},
   "outputs": [],
   "source": [
    "### REPRODUCED FOR REFERENCE\n",
    "def energy(m, c): ## E = mc^2\n",
    "    if m >= 0 and c >= 0:\n",
    "        return m*c**2\n",
    "    return None\n",
    "\n",
    "def test_energy():\n",
    "    assert isinstance(energy(1,1), int), 'should return an int!'\n",
    "    assert energy(1,1) == 1\n",
    "    assert energy(2,1) == 2\n",
    "    assert energy(1,2) == 4\n",
    "    assert energy(-1, -1) == None\n",
    "    \n",
    "test_energy()"
   ]
  },
  {
   "cell_type": "markdown",
   "metadata": {},
   "source": [
    " - Example: https://github.com/Liwmo/qwizard\n",
    " - Pandas testing: https://pandas.pydata.org/pandas-docs/stable/reference/api/pandas.testing.assert_frame_equal.html"
   ]
  },
  {
   "cell_type": "code",
   "execution_count": null,
   "metadata": {},
   "outputs": [],
   "source": [
    "import pandas as pd\n",
    "df = pd.DataFrame({'item':['banana', 'apple', 'starfruit', 'broccoli', 'cauliflower'], 'price': [0.50, 1.00, 2.00, 1.00, 2.00], \n",
    "                   'type':['fruit', 'fruit', 'fruit', 'veg', 'veg']})\n",
    "df"
   ]
  },
  {
   "cell_type": "code",
   "execution_count": null,
   "metadata": {},
   "outputs": [],
   "source": [
    "\n"
   ]
  },
  {
   "cell_type": "markdown",
   "metadata": {},
   "source": [
    "### Refactoring"
   ]
  },
  {
   "cell_type": "code",
   "execution_count": null,
   "metadata": {},
   "outputs": [],
   "source": [
    "df = pd.DataFrame({'item':['banana', 'apple', 'starfruit', 'broccoli', 'cauliflower'], \n",
    "                   'price': [0.50, 1.00, 2.00, 1.00, 2.00], \n",
    "                   'type':['fruit', 'fruit', 'fruit', 'veg', 'veg']})\n",
    "\n",
    "def get_total_by_type(df):\n",
    "    return df.groupby('type')['price'].sum()\n",
    "\n",
    "def calculate(df):\n",
    "    a = 0 \n",
    "    b = 0\n",
    "    for i in range(len(df)):\n",
    "        if df.iloc[i,2] == 'fruit':\n",
    "            a += df.iloc[i,1]\n",
    "        elif df.iloc[i,2] == 'veg':\n",
    "            b += df.iloc[i,1]\n",
    "    return pd.Series({'fruit': a, 'veg':b})\n",
    "\n",
    "get_total_by_type(df)"
   ]
  }
 ],
 "metadata": {
  "celltoolbar": "Slideshow",
  "kernelspec": {
   "display_name": "Python 3",
   "language": "python",
   "name": "python3"
  },
  "language_info": {
   "codemirror_mode": {
    "name": "ipython",
    "version": 3
   },
   "file_extension": ".py",
   "mimetype": "text/x-python",
   "name": "python",
   "nbconvert_exporter": "python",
   "pygments_lexer": "ipython3",
   "version": "3.7.3"
  }
 },
 "nbformat": 4,
 "nbformat_minor": 4
}
