{
 "cells": [
  {
   "cell_type": "markdown",
   "metadata": {},
   "source": [
    "## Lecture 2/2/2021\n",
    "\n",
    "Broadcasting, NumPy, and Timing Magics! ⚗️"
   ]
  },
  {
   "cell_type": "code",
   "execution_count": 3,
   "metadata": {},
   "outputs": [
    {
     "ename": "ValueError",
     "evalue": "operands could not be broadcast together with shapes (3,3) (2,1) ",
     "output_type": "error",
     "traceback": [
      "\u001b[0;31m---------------------------------------------------------------------------\u001b[0m",
      "\u001b[0;31mValueError\u001b[0m                                Traceback (most recent call last)",
      "\u001b[0;32m<ipython-input-3-361e8a865953>\u001b[0m in \u001b[0;36m<module>\u001b[0;34m\u001b[0m\n\u001b[1;32m     10\u001b[0m               [1]])\n\u001b[1;32m     11\u001b[0m \u001b[0;34m\u001b[0m\u001b[0m\n\u001b[0;32m---> 12\u001b[0;31m \u001b[0mx\u001b[0m \u001b[0;34m+\u001b[0m \u001b[0my\u001b[0m\u001b[0;34m\u001b[0m\u001b[0;34m\u001b[0m\u001b[0m\n\u001b[0m",
      "\u001b[0;31mValueError\u001b[0m: operands could not be broadcast together with shapes (3,3) (2,1) "
     ]
    }
   ],
   "source": [
    "#column and row vectors\n",
    "#check size, shape, ndim\n",
    "\n",
    "import numpy as np\n",
    "x = np.array([[1, 2, 3],\n",
    "              [4, 5, 6],\n",
    "              [7, 8, 9]])\n",
    "\n",
    "y = np.array([[2], \n",
    "              [1]])\n",
    "\n",
    "x + y"
   ]
  },
  {
   "cell_type": "code",
   "execution_count": 14,
   "metadata": {},
   "outputs": [
    {
     "name": "stdout",
     "output_type": "stream",
     "text": [
      "(1, 1)\n",
      "(1, 1, 1)\n",
      "2\n",
      "3\n"
     ]
    }
   ],
   "source": [
    "y2 = np.array([[1]])\n",
    "y3 = np.array([[[1]]])\n",
    "print(y2.shape)\n",
    "print(y3.shape)\n",
    "print(y2.ndim)\n",
    "print(y3.ndim)"
   ]
  },
  {
   "cell_type": "code",
   "execution_count": 19,
   "metadata": {},
   "outputs": [
    {
     "data": {
      "text/plain": [
       "array([[ 4, 13, 22]])"
      ]
     },
     "execution_count": 19,
     "metadata": {},
     "output_type": "execute_result"
    }
   ],
   "source": [
    "#brief linear algebra\n",
    "x = np.array([[1,2,3], \n",
    "             [4,5,6], \n",
    "             [7,8,9]])\n",
    "\n",
    "y = np.array([[2], \n",
    "              [1], \n",
    "              [0]])\n",
    "\n",
    "x * y \n",
    "v = np.matmul(x,y)\n",
    "v.T"
   ]
  },
  {
   "cell_type": "code",
   "execution_count": null,
   "metadata": {},
   "outputs": [],
   "source": [
    "C = np.array([[-10, 12], # C * 1.8 + 32\n",
    "              [20, 34]]) # C * 1   + 273.15\n",
    "\n",
    "\n",
    "T = C * np.array([[1.8], [1]]) + np.array([[32], [273.15]])\n",
    "\n",
    "#1. git clone the lab\n",
    "#2. first row: convert to Fahrenheit\n",
    "#   second row: convert to Kelvin"
   ]
  },
  {
   "cell_type": "code",
   "execution_count": 22,
   "metadata": {},
   "outputs": [
    {
     "name": "stdout",
     "output_type": "stream",
     "text": [
      "6.58 ns ± 0.0209 ns per loop (mean ± std. dev. of 7 runs, 100000000 loops each)\n",
      "23.3 ns ± 0.13 ns per loop (mean ± std. dev. of 7 runs, 10000000 loops each)\n"
     ]
    }
   ],
   "source": [
    "#timeit inline\n",
    "%timeit 2 +3\n",
    "\n",
    "%timeit 2 == 3"
   ]
  },
  {
   "cell_type": "code",
   "execution_count": 25,
   "metadata": {},
   "outputs": [
    {
     "name": "stdout",
     "output_type": "stream",
     "text": [
      "119 ns ± 0.198 ns per loop (mean ± std. dev. of 7 runs, 10000000 loops each)\n"
     ]
    }
   ],
   "source": [
    "%%timeit \n",
    "\n",
    "def addition(x,y):\n",
    "    return x+y\n",
    "\n",
    "addition(2,3)"
   ]
  },
  {
   "cell_type": "code",
   "execution_count": null,
   "metadata": {},
   "outputs": [],
   "source": []
  },
  {
   "cell_type": "code",
   "execution_count": null,
   "metadata": {},
   "outputs": [],
   "source": []
  }
 ],
 "metadata": {
  "kernelspec": {
   "display_name": "Python 3",
   "language": "python",
   "name": "python3"
  },
  "language_info": {
   "codemirror_mode": {
    "name": "ipython",
    "version": 3
   },
   "file_extension": ".py",
   "mimetype": "text/x-python",
   "name": "python",
   "nbconvert_exporter": "python",
   "pygments_lexer": "ipython3",
   "version": "3.7.3"
  }
 },
 "nbformat": 4,
 "nbformat_minor": 4
}
