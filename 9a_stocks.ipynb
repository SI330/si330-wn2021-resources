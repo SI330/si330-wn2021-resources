{
 "cells": [
  {
   "cell_type": "markdown",
   "metadata": {},
   "source": [
    "## Stonks\n",
    "\n",
    "- Course Roadmap (grade request note; email question include code)\n",
    "- Data exploration into the stock market using Yahoo Finance data \n",
    "- Ticker data for GameStop Corp., NYSE: GME"
   ]
  },
  {
   "cell_type": "code",
   "execution_count": null,
   "metadata": {},
   "outputs": [],
   "source": [
    "import pandas as pd\n",
    "import numpy as np\n",
    "import matplotlib.pyplot as plt\n",
    "import datetime\n",
    "import time\n",
    "\n",
    "class YahooAPI(object):\n",
    "    def __init__(self, interval=\"1d\"):\n",
    "        self.base_url = \"https://query1.finance.yahoo.com/v7/finance/download/{ticker}?period1={start_time}&period2={end_time}&interval={interval}&events=history\"\n",
    "        self.interval = interval\n",
    "    def __build_url(self, ticker, start_date, end_date):\n",
    "        return self.base_url.format(ticker=ticker, start_time=start_date, end_time=end_date, interval=self.interval)\n",
    "    def get_ticker_data(self, ticker, start_date, end_date):\n",
    "        # must pass datetime into this function\n",
    "        epoch_start = int(time.mktime(start_date.timetuple()))\n",
    "        epoch_end = int(time.mktime(end_date.timetuple()))\n",
    "        return pd.read_csv(self.__build_url(ticker, epoch_start, epoch_end))\n",
    "    \n",
    "if __name__ == '__main__':\n",
    "    dh = YahooAPI()\n",
    "    df = dh.get_ticker_data(\"gme\", pd.Timestamp(\"2020-03-01\"), pd.Timestamp(\"2021-03-01\"))\n",
    "    display(df.tail())"
   ]
  },
  {
   "cell_type": "code",
   "execution_count": null,
   "metadata": {},
   "outputs": [],
   "source": []
  },
  {
   "cell_type": "markdown",
   "metadata": {},
   "source": [
    "What is wrong with the plot?\n",
    "https://pandas.pydata.org/pandas-docs/stable/reference/api/pandas.DataFrame.plot.html"
   ]
  },
  {
   "cell_type": "code",
   "execution_count": null,
   "metadata": {},
   "outputs": [],
   "source": []
  },
  {
   "cell_type": "code",
   "execution_count": null,
   "metadata": {},
   "outputs": [],
   "source": []
  },
  {
   "cell_type": "code",
   "execution_count": null,
   "metadata": {},
   "outputs": [],
   "source": [
    "df = df.drop('Date', axis=1)\n",
    "df.head()"
   ]
  },
  {
   "cell_type": "code",
   "execution_count": null,
   "metadata": {},
   "outputs": [],
   "source": []
  },
  {
   "cell_type": "code",
   "execution_count": null,
   "metadata": {},
   "outputs": [],
   "source": [
    "prices = ['Open', 'High', 'Low', 'Close']\n"
   ]
  },
  {
   "cell_type": "code",
   "execution_count": null,
   "metadata": {},
   "outputs": [],
   "source": []
  },
  {
   "cell_type": "markdown",
   "metadata": {},
   "source": [
    "### Data Restructuring\n",
    "\n",
    "- Poll Question 1\n",
    "- Use the opening and closing prices to upsample"
   ]
  },
  {
   "cell_type": "code",
   "execution_count": null,
   "metadata": {},
   "outputs": [],
   "source": []
  },
  {
   "cell_type": "code",
   "execution_count": null,
   "metadata": {},
   "outputs": [],
   "source": [
    "\n",
    "prices_df.head()"
   ]
  },
  {
   "cell_type": "code",
   "execution_count": null,
   "metadata": {},
   "outputs": [],
   "source": []
  },
  {
   "cell_type": "code",
   "execution_count": null,
   "metadata": {},
   "outputs": [],
   "source": []
  },
  {
   "cell_type": "code",
   "execution_count": null,
   "metadata": {},
   "outputs": [],
   "source": []
  },
  {
   "cell_type": "markdown",
   "metadata": {},
   "source": [
    "## Calculating \\$\n",
    "\n",
    "- Poll question 2\n",
    "- Approximate amount traded in a day\n",
    "- Day with greatest loss and greatest gain\n",
    "- Rolling volume: https://www.marketwatch.com/story/gamestops-stock-surge-is-making-it-one-of-the-most-traded-in-the-u-s-11611767301"
   ]
  },
  {
   "cell_type": "code",
   "execution_count": null,
   "metadata": {},
   "outputs": [],
   "source": []
  },
  {
   "cell_type": "code",
   "execution_count": null,
   "metadata": {},
   "outputs": [],
   "source": [
    "def get_dollars_traded(row):\n",
    "    pass\n",
    "\n",
    "dollar_volume = None"
   ]
  },
  {
   "cell_type": "code",
   "execution_count": null,
   "metadata": {},
   "outputs": [],
   "source": [
    "print(f\"${dollar_volume:,.2f}\")"
   ]
  },
  {
   "cell_type": "code",
   "execution_count": null,
   "metadata": {},
   "outputs": [],
   "source": []
  },
  {
   "cell_type": "code",
   "execution_count": null,
   "metadata": {},
   "outputs": [],
   "source": [
    "def get_greatest_weekly_change(x):\n",
    "    pass\n",
    "    \n",
    "weekly_changes = None\n",
    "weekly_changes['change'] = weekly_changes['change'].astype('float64')\n",
    "weekly_changes.head()"
   ]
  },
  {
   "cell_type": "code",
   "execution_count": null,
   "metadata": {},
   "outputs": [],
   "source": [
    "initial_investment = None\n",
    "buy = None\n",
    "sell = None\n",
    "no_of_shares = None\n",
    "\n",
    "print(\"Dates: {} to {}\".format(buy, sell))\n",
    "print(\"Number of Shares\", no_of_shares)\n",
    "print(\"Buy Price\", prices_df.loc[buy, 'Price'])\n",
    "print(\"Sell Price\", prices_df.loc[sell, 'Price'])\n",
    "print(\"Cost Basis\", prices_df.loc[buy, 'Price'] * no_of_shares)\n",
    "\n",
    "\n",
    "profit = None\n",
    "print(\"Profit\", profit)"
   ]
  }
 ],
 "metadata": {
  "kernelspec": {
   "display_name": "Python 3",
   "language": "python",
   "name": "python3"
  },
  "language_info": {
   "codemirror_mode": {
    "name": "ipython",
    "version": 3
   },
   "file_extension": ".py",
   "mimetype": "text/x-python",
   "name": "python",
   "nbconvert_exporter": "python",
   "pygments_lexer": "ipython3",
   "version": "3.7.3"
  }
 },
 "nbformat": 4,
 "nbformat_minor": 4
}
