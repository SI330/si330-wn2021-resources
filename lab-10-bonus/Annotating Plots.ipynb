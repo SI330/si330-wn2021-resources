{
 "cells": [
  {
   "cell_type": "markdown",
   "metadata": {},
   "source": [
    "## Annotating Plots"
   ]
  },
  {
   "cell_type": "markdown",
   "metadata": {},
   "source": [
    "### New York Stock Exchange (Continued)"
   ]
  },
  {
   "cell_type": "code",
   "execution_count": null,
   "metadata": {},
   "outputs": [],
   "source": [
    "%matplotlib inline\n",
    "import numpy as np\n",
    "import matplotlib.pyplot as plt\n",
    "\n",
    "#Let's continue with our previous example looking at the Dow Jones Industrial Average's closing values over \n",
    "#the past century or so. Just to refresh your memory, I'll go ahead and re-plot the data. \n",
    "\n",
    "years = np.arange(1915, 2019, 1) \n",
    "closing_values = [99.15, 95.00, 74.38, 82.20, 107.23, 71.95, 80.80, 98.17, 95.52, 120.51, 151.08, 157.20, \n",
    "                  200.70, 300.00, 248.48, 164.58, 77.90, 59.93, 99.90, 104.04, 144.13, 179.90, 120.85, \n",
    "                  154.76, 150.24, 131.13, 110.96, 119.40, 135.89, 152.32, 192.91, 177.20, 181.16, 177.30,\n",
    "                  200.13, 235.41, 269.23, 291.90, 280.90, 404.39, 488.40, 499.47, 435.69, 583.65, 679.36, \n",
    "                  615.89, 731.14, 652.10, 762.95, 874.13, 969.26, 785.69, 905.11, 943.75, 800.36, 838.92, \n",
    "                  890.20, 1020.02, 850.86, 616.24, 852.41, 1004.65, 831.17, 805.01, 838.74, 963.99, 875.00, \n",
    "                  1046.54, 1258.64, 1211.57, 1546.67, 1895.95, 1938.83, 2168.57, 2753.20, 2633.66, 3168.83, \n",
    "                  3301.11, 3754.09, 3834.44, 5117.12, 6448.27, 7908.30, 9181.43, 11497.12, 10787.99, 10021.57, \n",
    "                  8341.63, 10453.92, 10783.01, 10717.50, 12463.15, 13264.82, 8776.39, 10428.05, 11577.51, \n",
    "                  12217.56, 13104.14, 16576.66, 17823.07, 17425.03, 19762.60, 24719.22, 23327.46]\n",
    "\n",
    "plt.plot(years, closing_values)"
   ]
  },
  {
   "cell_type": "code",
   "execution_count": null,
   "metadata": {},
   "outputs": [],
   "source": [
    "#Remember that we saw a lot more fine-grained details after applying a logarithmic transformation. However, \n",
    "#since we were trying to showcase periods of economic downturn, let's draw some attention to those periods\n",
    "#by highlighting them in red using axvspan.\n",
    "\n",
    "log_closings = np.log(closing_values)\n",
    "plt.plot(years, log_closings)\n",
    "\n",
    "\n",
    "#Now, you might notice that choosing regions involves a bit of subjectivity. For instance, the Great\n",
    "#Depression is generally considered as occuring between 1929-1939, but this doesn't mean that the market was \n",
    "#falling the entire time. For instance, you can see a significant rebound partway through the 1930s. For the  \n",
    "#purposes of this example however, we've just visually approximated areas where the graph drastically drops\n",
    "#or tends to flatten. However, if you want to explore this in greater depth, or see how our estimates stack\n",
    "#up to reality, see the Wikipedia page which lists a complete set of recessions throughout US history:\n",
    "#(https://en.wikipedia.org/wiki/List_of_recessions_in_the_United_States)."
   ]
  },
  {
   "cell_type": "code",
   "execution_count": null,
   "metadata": {},
   "outputs": [],
   "source": [
    "#Marking every single recession might be a bit cluttering. So, let's just come up with a graphic that \n",
    "#emphasizes the Great Depression, and the recession in 2008. Just to make this visually appealing, let's \n",
    "#shade the area under the curve using the fill_between function. \n",
    "\n",
    "plt.plot(years, log_closings)\n",
    "plt.fill_between(years, log_closings, alpha=0.3)"
   ]
  },
  {
   "cell_type": "markdown",
   "metadata": {},
   "source": [
    "Matplotlib fill_between Documentation:\n",
    "\n",
    "https://matplotlib.org/api/_as_gen/matplotlib.pyplot.fill_between.html\n",
    "\n",
    "Matplotlib Markers:\n",
    "\n",
    "![markers](markers.png)"
   ]
  },
  {
   "cell_type": "code",
   "execution_count": null,
   "metadata": {},
   "outputs": [],
   "source": [
    "#Maybe we also want to point out the high and low points for each event by placing some markers on the graph.\n",
    "#As you can see above, there are plenty of customization options.\n",
    "#Play around at https://matplotlib.org/stable/api/_as_gen/matplotlib.pyplot.plot.html#matplotlib.pyplot.plot\n",
    "\n",
    "high_markers = [i for i in range(len(years)) if years[i] in [1928, 2007]]\n",
    "plt.plot(years, log_closings) #ADD PARAMETERS\n",
    "plt.fill_between(years, log_closings, y2=3, alpha=0.3)\n",
    "\n",
    "low_years = [1932, 2008]\n",
    "low_markers = [i for i in range(len(years)) if years[i] in low_years]\n",
    "plt.scatter(low_years, log_closings[low_markers], zorder=3) #ADD PARAMETERS "
   ]
  },
  {
   "cell_type": "markdown",
   "metadata": {},
   "source": [
    "Documentation for Various Features:\n",
    "\n",
    "https://matplotlib.org/gallery/misc/zorder_demo.html\n",
    "\n",
    "https://matplotlib.org/examples/color/named_colors.html\n",
    "\n",
    "https://matplotlib.org/gallery/lines_bars_and_markers/line_styles_reference.html"
   ]
  },
  {
   "cell_type": "markdown",
   "metadata": {},
   "source": [
    "### Annotation Basics \n",
    "\n",
    "| argument | coordinate system |\n",
    "|:---: |:----:|\n",
    "|'figure points' | points from the lower left corner of the figure|\n",
    "|'figure pixels' |\tpixels from the lower left corner of the figure|\n",
    "|'figure fraction' |\t0,0 is lower left of figure and 1,1 is upper right|\n",
    "|'axes points' |\tpoints from lower left corner of axes|\n",
    "|'axes pixels' |\tpixels from lower left corner of axes|\n",
    "|'axes fraction' |\t0,0 is lower left of axes and 1,1 is upper right|\n",
    "|'data' |\tuse the axes data coordinate system|"
   ]
  },
  {
   "cell_type": "code",
   "execution_count": null,
   "metadata": {},
   "outputs": [],
   "source": [
    "#SAME CODE AS ABOVE\n",
    "high_markers = [i for i in range(len(years)) if years[i] in [1928, 2007]]\n",
    "plt.plot(years, log_closings, '-v', markevery=high_markers, \n",
    "         markerfacecolor='green', markeredgecolor='black', markersize=8)\n",
    "plt.fill_between(years, log_closings, y2=3, alpha=0.3)\n",
    "\n",
    "low_years = [1932, 2008]\n",
    "low_markers = [i for i in range(len(years)) if years[i] in low_years]\n",
    "plt.scatter(low_years, log_closings[low_markers], s=50, c='r', marker='^', edgecolors='black', zorder=3)\n",
    "\n",
    "#Even though we've placed markers, it'd be nice to explicitly label each event, and also give your audience \n",
    "#some sense of how big the drop actually is, since it's a bit hard to tell given our logarithmic scale. \n",
    "#First, let's calculate the percent change for both the depression and recession:\n",
    "\n",
    "depression_diff = np.exp(log_closings[low_markers[0]]) - np.exp(log_closings[high_markers[0]])\n",
    "recession_diff = np.exp(log_closings[low_markers[1]]) - np.exp(log_closings[high_markers[1]])\n",
    "depression_pct = 100 *  depression_diff / np.exp(log_closings[high_markers[0]])\n",
    "recession_pct = 100 * recession_diff / np.exp(log_closings[high_markers[1]])\n",
    "\n",
    "#Now we just have to affix some labels and add some arrows. To do so, we'll need to specify the location or \n",
    "#points where we want to place these objects. To do that, you'll have to first select a coordinate system. \n",
    "#I've listed a number of them in the table above.\n",
    "\n",
    "plt.annotate('The Great \\nDepression (%d%%)' % depression_pct, \n",
    "             xy=(1928, 5.8), xycoords='data', xytext=(0.2, 0.6), textcoords='axes fraction', \n",
    "             fontsize=12, horizontalalignment='center',\n",
    "             arrowprops=dict(arrowstyle='->, head_width=0.5', color='black', linewidth=3))\n",
    "\n",
    "#NOW TRY ADDING AN ARROW/TEXT FOR THE RECESSION\n",
    "\n",
    "#We can also draw some dotted horizontal lines to help you approximate how long it took to recover from each \n",
    "#economic downturn. We want to layer them behind our markers, which means we'll need to specify a zorder \n",
    "#value. Higher numbers get moved towards the front, and smaller values are pushed backwards on this \"z-axis\".\n",
    "\n",
    "plt.axhline(log_closings[high_markers[0]], color='grey', linestyle='--', zorder=0)\n",
    "plt.axhline(log_closings[high_markers[1]], color='grey', linestyle='--', zorder=0)\n",
    "plt.axhline(log_closings[low_markers[0]], color='grey', linestyle='--', zorder=0)\n",
    "plt.axhline(log_closings[low_markers[1]], color='grey', linestyle='--', zorder=0)\n",
    "\n",
    "#Note that the Depression took almost 20 years to recover (or return to the same point value)! By contrast, \n",
    "#the recession reached pre-crash levels in under 5 years, though that's not to say there weren't lingering \n",
    "#effects in the years after. Finally, I want to draw your attention to the fact that the percentages aren't \n",
    "#entirely accurate. For instance, the high, prior to the recession, was roughly 14,000 points, while the \n",
    "#low hovered around 6,500, a drop of over 50%. The reason is because we only provided yearly data, but\n",
    "#we'd get a more accurate representation had you been given more fine-grained monthly data instead. "
   ]
  },
  {
   "cell_type": "markdown",
   "metadata": {},
   "source": [
    "**Stack Overflow Notes:**\n",
    "\n",
    "Difference between points and pixels? https://graphicdesign.stackexchange.com/questions/199/point-vs-pixel-what-is-the-difference\n",
    "\n",
    "Technicality when using arrows: https://stackoverflow.com/questions/27598976/matplotlib-unknown-property-headwidth-and-head-width\n",
    "\n",
    "**Other Info:**\n",
    "\n",
    "Matplotlib Annotations Tutorial: https://matplotlib.org/tutorials/text/annotations.html#placing-artist-at-the-anchored-location-of-the-axes\n",
    "\n",
    "More Documentation:\n",
    "\n",
    "https://matplotlib.org/api/_as_gen/matplotlib.patches.Patch.html#matplotlib.patches.Patch \n",
    "                               \n",
    "$$\\text{Inherited} \\Uparrow \\text{From}$$ \n",
    "                               \n",
    "https://matplotlib.org/api/_as_gen/matplotlib.patches.FancyArrowPatch.html#matplotlib.patches.FancyArrowPatch\n"
   ]
  },
  {
   "cell_type": "markdown",
   "metadata": {},
   "source": [
    "### Wrap-Up"
   ]
  },
  {
   "cell_type": "markdown",
   "metadata": {},
   "source": [
    "Reference: http://math.hws.edu/~mitchell/SpeciesArea/speciesAreaText.html\n",
    "\n",
    "Writing Mathematical Expressions: https://matplotlib.org/users/mathtext.html\n",
    "\n",
    "LaTeX \"Cheat Sheet\": https://www.nyu.edu/projects/beber/files/Chang_LaTeX_sheet.pdf"
   ]
  },
  {
   "cell_type": "markdown",
   "metadata": {},
   "source": [
    "Make your own comics:\n",
    "![comic](xkcd.png)\n",
    "\n",
    "Link to more comics:\n",
    "https://xkcd.com/2048/"
   ]
  },
  {
   "cell_type": "code",
   "execution_count": null,
   "metadata": {},
   "outputs": [],
   "source": [
    "#I want to show you a neat little easter egg before we wrap-up this lecture. You can make your own XKCD-style \n",
    "#plots simply by wrapping your plotting code with the line shown below:\n",
    "\n",
    "with plt.xkcd():\n",
    "    #COPY THE CODE FROM ABOVE HERE!\n",
    "\n",
    "#While this style might not be appropriate in all situations, it's definitely a fun addition;\n",
    "#feel free to design your own infographics or data-science comics!"
   ]
  }
 ],
 "metadata": {
  "kernelspec": {
   "display_name": "Python 3",
   "language": "python",
   "name": "python3"
  },
  "language_info": {
   "codemirror_mode": {
    "name": "ipython",
    "version": 3
   },
   "file_extension": ".py",
   "mimetype": "text/x-python",
   "name": "python",
   "nbconvert_exporter": "python",
   "pygments_lexer": "ipython3",
   "version": "3.7.3"
  }
 },
 "nbformat": 4,
 "nbformat_minor": 4
}
